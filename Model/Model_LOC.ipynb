{
 "cells": [
  {
   "cell_type": "code",
   "execution_count": 29,
   "metadata": {},
   "outputs": [],
   "source": [
    "\n",
    "import pandas as pd\n",
    "import numpy as np\n",
    "\n",
    "from pycaret.classification import *\n",
    "from sklearn.model_selection import train_test_split\n",
    "from sklearn.preprocessing import StandardScaler, OneHotEncoder\n",
    "from sklearn.compose import ColumnTransformer\n",
    "from sklearn.pipeline import Pipeline\n",
    "from sklearn.ensemble import RandomForestClassifier"
   ]
  },
  {
   "cell_type": "code",
   "execution_count": 30,
   "metadata": {},
   "outputs": [],
   "source": [
    "# Carregando os dados\n",
    "ais_data_1 = pd.read_csv(r'..\\Data\\ais_data.csv')\n",
    "ais_data_2 = pd.read_csv(r'..\\Data\\AIS_UNACORN_Seatracks_past12-hours.csv')\n",
    "\n",
    "# Removendo colunas desnecessárias e tratando valores ausentes\n",
    "ais_data_1_cleaned = ais_data_1.drop(columns=[\"Unnamed: 0\"]).dropna(subset=[\"sog\", \"cog\", \"heading\", \"shiptype\"])\n",
    "ais_data_2_cleaned = ais_data_2.drop(columns=[\"Unnamed: 0\"]).dropna(subset=[\"sog\", \"cog\", \"heading\", \"imonumber\"])"
   ]
  },
  {
   "cell_type": "code",
   "execution_count": 31,
   "metadata": {},
   "outputs": [],
   "source": [
    "# Função para remover outliers usando o método IQR\n",
    "def remove_outliers(df, column):\n",
    "    Q1 = df[column].quantile(0.25)\n",
    "    Q3 = df[column].quantile(0.75)\n",
    "    IQR = Q3 - Q1\n",
    "    lower_bound = Q1 - 1.5 * IQR\n",
    "    upper_bound = Q3 + 1.5 * IQR\n",
    "    return df[(df[column] >= lower_bound) & (df[column] <= upper_bound)]"
   ]
  },
  {
   "cell_type": "code",
   "execution_count": 32,
   "metadata": {},
   "outputs": [],
   "source": [
    "\n",
    "\n",
    "def valores_vazios(col):\n",
    "    # Corrigindo o nome do método para value_counts()\n",
    "    percentual = col.value_counts(normalize=True).to_dict()\n",
    "    percent = [percentual[key] for key in percentual]\n",
    "    labels = [key for key in percentual]\n",
    "    \n",
    "    # Usando pd.Series em vez de pd.series e corrigindo a geração da série s\n",
    "    s = pd.Series(np.random.choice(labels, p=percent, size=col.isnull().sum()), index=col.index[col.isnull()])\n",
    "    \n",
    "    # Preenchendo os valores NaN com a série s\n",
    "    col.fillna(s, inplace=True)\n",
    "    \n",
    "    # Verificando se ainda há valores NaN e preenchendo-os com o valor mais frequente\n",
    "    if col.isnull().sum() > 0:\n",
    "        col.fillna(value=max(percentual, key=percentual.get), inplace=True)\n",
    "        \n",
    "    return col\n"
   ]
  },
  {
   "cell_type": "code",
   "execution_count": 33,
   "metadata": {},
   "outputs": [],
   "source": [
    "def check_and_rename_duplicate_columns(df):\n",
    "    cols = pd.Series(df.columns)\n",
    "    for dup in df.columns[df.columns.duplicated(keep=False)]:  # identifica duplicatas\n",
    "        cols[df.columns.get_loc(dup)] = [dup + '_' + str(d_idx) if d_idx != 0 else dup for d_idx in range(df.columns.get_loc(dup).sum())]\n",
    "    df.columns = cols"
   ]
  },
  {
   "cell_type": "code",
   "execution_count": 34,
   "metadata": {},
   "outputs": [],
   "source": [
    "# Aplicando a função para remover outliers de 'sog' e 'cog'\n",
    "ais_data_1_cleaned = remove_outliers(ais_data_1_cleaned, 'sog')\n",
    "ais_data_1_cleaned = remove_outliers(ais_data_1_cleaned, 'cog')\n",
    "ais_data_2_cleaned = remove_outliers(ais_data_2_cleaned, 'sog')\n",
    "ais_data_2_cleaned = remove_outliers(ais_data_2_cleaned, 'cog')\n",
    "\n",
    "\n",
    "\n",
    "for col in ais_data_1_cleaned.columns[1:]:  # Ajuste conforme necessário\n",
    "    if ais_data_1_cleaned[col].dtype == 'O':  # Verificando o tipo de dados da coluna\n",
    "        ais_data_1_cleaned[col] = valores_vazios(ais_data_1_cleaned[col])\n",
    "    else:\n",
    "        # Para colunas numéricas, preencher com a mediana\n",
    "        ais_data_1_cleaned[col].fillna(value=ais_data_1_cleaned[col].median(), inplace=True)\n",
    "        \n",
    "\n",
    "for col in ais_data_2_cleaned.columns[1:]:  # Ajuste conforme necessário\n",
    "    if ais_data_2_cleaned[col].dtype == 'O':  # Verificando o tipo de dados da coluna\n",
    "        ais_data_2_cleaned[col] = valores_vazios(ais_data_2_cleaned[col])\n",
    "    else:\n",
    "        # Para colunas numéricas, preencher com a mediana\n",
    "        ais_data_2_cleaned[col].fillna(value=ais_data_2_cleaned[col].median(), inplace=True)"
   ]
  },
  {
   "cell_type": "code",
   "execution_count": 35,
   "metadata": {},
   "outputs": [],
   "source": [
    "# Exibindo os primeiros registros para verificar a limpeza\n",
    "# display(ais_data_1_cleaned.head(5))\n",
    "# display(ais_data_2_cleaned.head(5))"
   ]
  },
  {
   "cell_type": "code",
   "execution_count": 36,
   "metadata": {},
   "outputs": [],
   "source": [
    "# Identificando colunas numéricas e categóricas\n",
    "numeric_features = ['sog', 'cog', 'length', 'width', 'draught']\n",
    "categorical_features = ['shiptype', 'navigationalstatus']\n",
    "\n",
    "# Criando transformadores para dados numéricos e categóricos\n",
    "numeric_transformer = StandardScaler()\n",
    "categorical_transformer = OneHotEncoder(handle_unknown='ignore')\n",
    "\n",
    "# Continuando com a preparação dos dados para o PyCaret\n",
    "X = ais_data_1_cleaned[numeric_features + categorical_features]\n",
    "y = ais_data_1_cleaned['navigationalstatus']  # Supondo que 'navigationalstatus' é a variável alvo\n",
    "ais_data_1_cleaned_prepared = pd.concat([X, y], axis=1)"
   ]
  },
  {
   "cell_type": "code",
   "execution_count": 37,
   "metadata": {},
   "outputs": [],
   "source": [
    "# Combinando transformadores em um ColumnTransformer\n",
    "preprocessor = ColumnTransformer(\n",
    "    transformers=[\n",
    "        ('num', numeric_transformer, numeric_features),\n",
    "        ('cat', categorical_transformer, categorical_features)\n",
    "    ])\n",
    "\n",
    "# Criando um pipeline com o pré-processador\n",
    "pipeline = Pipeline(steps=[('preprocessor', preprocessor)])"
   ]
  },
  {
   "cell_type": "code",
   "execution_count": 39,
   "metadata": {},
   "outputs": [],
   "source": [
    "check_and_rename_duplicate_columns(ais_data_1_cleaned_prepared)\n",
    "\n",
    "\n",
    "# Supondo que 'navigationalstatus_1' é a variável alvo devido ao renomeamento\n",
    "y = ais_data_1_cleaned['navigationalstatus']\n",
    "\n",
    "# Assegure-se de não incluir a coluna alvo nas características\n",
    "X = ais_data_1_cleaned[numeric_features + categorical_features]\n",
    "ais_data_1_cleaned_prepared = pd.concat([X, y], axis=1)\n",
    "\n",
    "# Atualizando a lista de características categóricas, removendo a coluna alvo\n",
    "categorical_features = [feature for feature in categorical_features if feature != 'navigationalstatus']\n",
    "categorical_features.append('navigationalstatus')  # Adicionando o novo nome se necessário\n",
    "\n",
    "def check_and_rename_duplicate_columns(df):\n",
    "    cols = pd.Series(df.columns)\n",
    "    for col in cols[cols.duplicated()].unique():  # Apenas para colunas duplicadas\n",
    "        cs = [f\"{col}_{i}\" if i != 0 else col for i in range(cols[cols == col].count())]  # Renomear cada uma\n",
    "        cols[cols[cols == col].index] = cs\n",
    "    df.columns = cols\n",
    "\n",
    "\n",
    "if ais_data_1_cleaned_prepared.columns.duplicated().sum() > 0:\n",
    "    check_and_rename_duplicate_columns(ais_data_1_cleaned_prepared)\n",
    "\n",
    "\n"
   ]
  },
  {
   "cell_type": "code",
   "execution_count": 41,
   "metadata": {},
   "outputs": [
    {
     "data": {
      "text/html": [
       "<style type=\"text/css\">\n",
       "</style>\n",
       "<table id=\"T_833af\">\n",
       "  <thead>\n",
       "    <tr>\n",
       "      <th class=\"blank level0\" >&nbsp;</th>\n",
       "      <th id=\"T_833af_level0_col0\" class=\"col_heading level0 col0\" >Description</th>\n",
       "      <th id=\"T_833af_level0_col1\" class=\"col_heading level0 col1\" >Value</th>\n",
       "    </tr>\n",
       "  </thead>\n",
       "  <tbody>\n",
       "    <tr>\n",
       "      <th id=\"T_833af_level0_row0\" class=\"row_heading level0 row0\" >0</th>\n",
       "      <td id=\"T_833af_row0_col0\" class=\"data row0 col0\" >Session id</td>\n",
       "      <td id=\"T_833af_row0_col1\" class=\"data row0 col1\" >123</td>\n",
       "    </tr>\n",
       "    <tr>\n",
       "      <th id=\"T_833af_level0_row1\" class=\"row_heading level0 row1\" >1</th>\n",
       "      <td id=\"T_833af_row1_col0\" class=\"data row1 col0\" >Target</td>\n",
       "      <td id=\"T_833af_row1_col1\" class=\"data row1 col1\" >navigationalstatus_1</td>\n",
       "    </tr>\n",
       "    <tr>\n",
       "      <th id=\"T_833af_level0_row2\" class=\"row_heading level0 row2\" >2</th>\n",
       "      <td id=\"T_833af_row2_col0\" class=\"data row2 col0\" >Target type</td>\n",
       "      <td id=\"T_833af_row2_col1\" class=\"data row2 col1\" >Multiclass</td>\n",
       "    </tr>\n",
       "    <tr>\n",
       "      <th id=\"T_833af_level0_row3\" class=\"row_heading level0 row3\" >3</th>\n",
       "      <td id=\"T_833af_row3_col0\" class=\"data row3 col0\" >Original data shape</td>\n",
       "      <td id=\"T_833af_row3_col1\" class=\"data row3 col1\" >(318334, 8)</td>\n",
       "    </tr>\n",
       "    <tr>\n",
       "      <th id=\"T_833af_level0_row4\" class=\"row_heading level0 row4\" >4</th>\n",
       "      <td id=\"T_833af_row4_col0\" class=\"data row4 col0\" >Transformed data shape</td>\n",
       "      <td id=\"T_833af_row4_col1\" class=\"data row4 col1\" >(318334, 8)</td>\n",
       "    </tr>\n",
       "    <tr>\n",
       "      <th id=\"T_833af_level0_row5\" class=\"row_heading level0 row5\" >5</th>\n",
       "      <td id=\"T_833af_row5_col0\" class=\"data row5 col0\" >Transformed train set shape</td>\n",
       "      <td id=\"T_833af_row5_col1\" class=\"data row5 col1\" >(222833, 8)</td>\n",
       "    </tr>\n",
       "    <tr>\n",
       "      <th id=\"T_833af_level0_row6\" class=\"row_heading level0 row6\" >6</th>\n",
       "      <td id=\"T_833af_row6_col0\" class=\"data row6 col0\" >Transformed test set shape</td>\n",
       "      <td id=\"T_833af_row6_col1\" class=\"data row6 col1\" >(95501, 8)</td>\n",
       "    </tr>\n",
       "    <tr>\n",
       "      <th id=\"T_833af_level0_row7\" class=\"row_heading level0 row7\" >7</th>\n",
       "      <td id=\"T_833af_row7_col0\" class=\"data row7 col0\" >Numeric features</td>\n",
       "      <td id=\"T_833af_row7_col1\" class=\"data row7 col1\" >5</td>\n",
       "    </tr>\n",
       "    <tr>\n",
       "      <th id=\"T_833af_level0_row8\" class=\"row_heading level0 row8\" >8</th>\n",
       "      <td id=\"T_833af_row8_col0\" class=\"data row8 col0\" >Categorical features</td>\n",
       "      <td id=\"T_833af_row8_col1\" class=\"data row8 col1\" >2</td>\n",
       "    </tr>\n",
       "  </tbody>\n",
       "</table>\n"
      ],
      "text/plain": [
       "<pandas.io.formats.style.Styler at 0x29941694b50>"
      ]
     },
     "metadata": {},
     "output_type": "display_data"
    },
    {
     "data": {
      "text/plain": [
       "<pycaret.classification.oop.ClassificationExperiment at 0x2993bf0bbd0>"
      ]
     },
     "execution_count": 41,
     "metadata": {},
     "output_type": "execute_result"
    }
   ],
   "source": [
    "# Configurando o ambiente em PyCaret\n",
    "setup(data=ais_data_1_cleaned_prepared, target='navigationalstatus_1', session_id=123,\n",
    "      numeric_features=numeric_features, categorical_features=categorical_features,\n",
    "      preprocess=False)"
   ]
  },
  {
   "cell_type": "code",
   "execution_count": 42,
   "metadata": {},
   "outputs": [
    {
     "data": {
      "text/html": [],
      "text/plain": [
       "<IPython.core.display.HTML object>"
      ]
     },
     "metadata": {},
     "output_type": "display_data"
    },
    {
     "data": {
      "text/html": [
       "<style type=\"text/css\">\n",
       "#T_5f421 th {\n",
       "  text-align: left;\n",
       "}\n",
       "#T_5f421_row0_col0, #T_5f421_row0_col2, #T_5f421_row0_col4, #T_5f421_row0_col5, #T_5f421_row0_col6, #T_5f421_row0_col7, #T_5f421_row1_col0, #T_5f421_row1_col1, #T_5f421_row1_col3 {\n",
       "  text-align: left;\n",
       "}\n",
       "#T_5f421_row0_col1, #T_5f421_row0_col3, #T_5f421_row1_col2, #T_5f421_row1_col4, #T_5f421_row1_col5, #T_5f421_row1_col6, #T_5f421_row1_col7 {\n",
       "  text-align: left;\n",
       "  background-color: yellow;\n",
       "}\n",
       "#T_5f421_row0_col8 {\n",
       "  text-align: left;\n",
       "  background-color: yellow;\n",
       "  background-color: lightgrey;\n",
       "}\n",
       "#T_5f421_row1_col8 {\n",
       "  text-align: left;\n",
       "  background-color: lightgrey;\n",
       "}\n",
       "</style>\n",
       "<table id=\"T_5f421\">\n",
       "  <thead>\n",
       "    <tr>\n",
       "      <th class=\"blank level0\" >&nbsp;</th>\n",
       "      <th id=\"T_5f421_level0_col0\" class=\"col_heading level0 col0\" >Model</th>\n",
       "      <th id=\"T_5f421_level0_col1\" class=\"col_heading level0 col1\" >Accuracy</th>\n",
       "      <th id=\"T_5f421_level0_col2\" class=\"col_heading level0 col2\" >AUC</th>\n",
       "      <th id=\"T_5f421_level0_col3\" class=\"col_heading level0 col3\" >Recall</th>\n",
       "      <th id=\"T_5f421_level0_col4\" class=\"col_heading level0 col4\" >Prec.</th>\n",
       "      <th id=\"T_5f421_level0_col5\" class=\"col_heading level0 col5\" >F1</th>\n",
       "      <th id=\"T_5f421_level0_col6\" class=\"col_heading level0 col6\" >Kappa</th>\n",
       "      <th id=\"T_5f421_level0_col7\" class=\"col_heading level0 col7\" >MCC</th>\n",
       "      <th id=\"T_5f421_level0_col8\" class=\"col_heading level0 col8\" >TT (Sec)</th>\n",
       "    </tr>\n",
       "  </thead>\n",
       "  <tbody>\n",
       "    <tr>\n",
       "      <th id=\"T_5f421_level0_row0\" class=\"row_heading level0 row0\" >dummy</th>\n",
       "      <td id=\"T_5f421_row0_col0\" class=\"data row0 col0\" >Dummy Classifier</td>\n",
       "      <td id=\"T_5f421_row0_col1\" class=\"data row0 col1\" >0.9170</td>\n",
       "      <td id=\"T_5f421_row0_col2\" class=\"data row0 col2\" >0.4000</td>\n",
       "      <td id=\"T_5f421_row0_col3\" class=\"data row0 col3\" >0.9170</td>\n",
       "      <td id=\"T_5f421_row0_col4\" class=\"data row0 col4\" >0.8409</td>\n",
       "      <td id=\"T_5f421_row0_col5\" class=\"data row0 col5\" >0.8773</td>\n",
       "      <td id=\"T_5f421_row0_col6\" class=\"data row0 col6\" >0.0000</td>\n",
       "      <td id=\"T_5f421_row0_col7\" class=\"data row0 col7\" >0.0000</td>\n",
       "      <td id=\"T_5f421_row0_col8\" class=\"data row0 col8\" >0.2830</td>\n",
       "    </tr>\n",
       "    <tr>\n",
       "      <th id=\"T_5f421_level0_row1\" class=\"row_heading level0 row1\" >lightgbm</th>\n",
       "      <td id=\"T_5f421_row1_col0\" class=\"data row1 col0\" >Light Gradient Boosting Machine</td>\n",
       "      <td id=\"T_5f421_row1_col1\" class=\"data row1 col1\" >0.8835</td>\n",
       "      <td id=\"T_5f421_row1_col2\" class=\"data row1 col2\" >0.5613</td>\n",
       "      <td id=\"T_5f421_row1_col3\" class=\"data row1 col3\" >0.8835</td>\n",
       "      <td id=\"T_5f421_row1_col4\" class=\"data row1 col4\" >0.8909</td>\n",
       "      <td id=\"T_5f421_row1_col5\" class=\"data row1 col5\" >0.8853</td>\n",
       "      <td id=\"T_5f421_row1_col6\" class=\"data row1 col6\" >0.2998</td>\n",
       "      <td id=\"T_5f421_row1_col7\" class=\"data row1 col7\" >0.3072</td>\n",
       "      <td id=\"T_5f421_row1_col8\" class=\"data row1 col8\" >6.6530</td>\n",
       "    </tr>\n",
       "  </tbody>\n",
       "</table>\n"
      ],
      "text/plain": [
       "<pandas.io.formats.style.Styler at 0x299428f5f50>"
      ]
     },
     "metadata": {},
     "output_type": "display_data"
    },
    {
     "data": {
      "text/html": [],
      "text/plain": [
       "<IPython.core.display.HTML object>"
      ]
     },
     "metadata": {},
     "output_type": "display_data"
    }
   ],
   "source": [
    "best_model = compare_models()"
   ]
  },
  {
   "cell_type": "code",
   "execution_count": 43,
   "metadata": {},
   "outputs": [
    {
     "data": {
      "text/html": [],
      "text/plain": [
       "<IPython.core.display.HTML object>"
      ]
     },
     "metadata": {},
     "output_type": "display_data"
    },
    {
     "data": {
      "text/html": [
       "<style type=\"text/css\">\n",
       "#T_d7065_row10_col0, #T_d7065_row10_col1, #T_d7065_row10_col2, #T_d7065_row10_col3, #T_d7065_row10_col4, #T_d7065_row10_col5, #T_d7065_row10_col6 {\n",
       "  background: yellow;\n",
       "}\n",
       "</style>\n",
       "<table id=\"T_d7065\">\n",
       "  <thead>\n",
       "    <tr>\n",
       "      <th class=\"blank level0\" >&nbsp;</th>\n",
       "      <th id=\"T_d7065_level0_col0\" class=\"col_heading level0 col0\" >Accuracy</th>\n",
       "      <th id=\"T_d7065_level0_col1\" class=\"col_heading level0 col1\" >AUC</th>\n",
       "      <th id=\"T_d7065_level0_col2\" class=\"col_heading level0 col2\" >Recall</th>\n",
       "      <th id=\"T_d7065_level0_col3\" class=\"col_heading level0 col3\" >Prec.</th>\n",
       "      <th id=\"T_d7065_level0_col4\" class=\"col_heading level0 col4\" >F1</th>\n",
       "      <th id=\"T_d7065_level0_col5\" class=\"col_heading level0 col5\" >Kappa</th>\n",
       "      <th id=\"T_d7065_level0_col6\" class=\"col_heading level0 col6\" >MCC</th>\n",
       "    </tr>\n",
       "    <tr>\n",
       "      <th class=\"index_name level0\" >Fold</th>\n",
       "      <th class=\"blank col0\" >&nbsp;</th>\n",
       "      <th class=\"blank col1\" >&nbsp;</th>\n",
       "      <th class=\"blank col2\" >&nbsp;</th>\n",
       "      <th class=\"blank col3\" >&nbsp;</th>\n",
       "      <th class=\"blank col4\" >&nbsp;</th>\n",
       "      <th class=\"blank col5\" >&nbsp;</th>\n",
       "      <th class=\"blank col6\" >&nbsp;</th>\n",
       "    </tr>\n",
       "  </thead>\n",
       "  <tbody>\n",
       "    <tr>\n",
       "      <th id=\"T_d7065_level0_row0\" class=\"row_heading level0 row0\" >0</th>\n",
       "      <td id=\"T_d7065_row0_col0\" class=\"data row0 col0\" >0.9170</td>\n",
       "      <td id=\"T_d7065_row0_col1\" class=\"data row0 col1\" >0.5000</td>\n",
       "      <td id=\"T_d7065_row0_col2\" class=\"data row0 col2\" >0.9170</td>\n",
       "      <td id=\"T_d7065_row0_col3\" class=\"data row0 col3\" >0.8409</td>\n",
       "      <td id=\"T_d7065_row0_col4\" class=\"data row0 col4\" >0.8773</td>\n",
       "      <td id=\"T_d7065_row0_col5\" class=\"data row0 col5\" >0.0000</td>\n",
       "      <td id=\"T_d7065_row0_col6\" class=\"data row0 col6\" >0.0000</td>\n",
       "    </tr>\n",
       "    <tr>\n",
       "      <th id=\"T_d7065_level0_row1\" class=\"row_heading level0 row1\" >1</th>\n",
       "      <td id=\"T_d7065_row1_col0\" class=\"data row1 col0\" >0.9170</td>\n",
       "      <td id=\"T_d7065_row1_col1\" class=\"data row1 col1\" >0.5000</td>\n",
       "      <td id=\"T_d7065_row1_col2\" class=\"data row1 col2\" >0.9170</td>\n",
       "      <td id=\"T_d7065_row1_col3\" class=\"data row1 col3\" >0.8409</td>\n",
       "      <td id=\"T_d7065_row1_col4\" class=\"data row1 col4\" >0.8773</td>\n",
       "      <td id=\"T_d7065_row1_col5\" class=\"data row1 col5\" >0.0000</td>\n",
       "      <td id=\"T_d7065_row1_col6\" class=\"data row1 col6\" >0.0000</td>\n",
       "    </tr>\n",
       "    <tr>\n",
       "      <th id=\"T_d7065_level0_row2\" class=\"row_heading level0 row2\" >2</th>\n",
       "      <td id=\"T_d7065_row2_col0\" class=\"data row2 col0\" >0.9170</td>\n",
       "      <td id=\"T_d7065_row2_col1\" class=\"data row2 col1\" >0.5000</td>\n",
       "      <td id=\"T_d7065_row2_col2\" class=\"data row2 col2\" >0.9170</td>\n",
       "      <td id=\"T_d7065_row2_col3\" class=\"data row2 col3\" >0.8409</td>\n",
       "      <td id=\"T_d7065_row2_col4\" class=\"data row2 col4\" >0.8773</td>\n",
       "      <td id=\"T_d7065_row2_col5\" class=\"data row2 col5\" >0.0000</td>\n",
       "      <td id=\"T_d7065_row2_col6\" class=\"data row2 col6\" >0.0000</td>\n",
       "    </tr>\n",
       "    <tr>\n",
       "      <th id=\"T_d7065_level0_row3\" class=\"row_heading level0 row3\" >3</th>\n",
       "      <td id=\"T_d7065_row3_col0\" class=\"data row3 col0\" >0.9170</td>\n",
       "      <td id=\"T_d7065_row3_col1\" class=\"data row3 col1\" >0.0000</td>\n",
       "      <td id=\"T_d7065_row3_col2\" class=\"data row3 col2\" >0.9170</td>\n",
       "      <td id=\"T_d7065_row3_col3\" class=\"data row3 col3\" >0.8409</td>\n",
       "      <td id=\"T_d7065_row3_col4\" class=\"data row3 col4\" >0.8773</td>\n",
       "      <td id=\"T_d7065_row3_col5\" class=\"data row3 col5\" >0.0000</td>\n",
       "      <td id=\"T_d7065_row3_col6\" class=\"data row3 col6\" >0.0000</td>\n",
       "    </tr>\n",
       "    <tr>\n",
       "      <th id=\"T_d7065_level0_row4\" class=\"row_heading level0 row4\" >4</th>\n",
       "      <td id=\"T_d7065_row4_col0\" class=\"data row4 col0\" >0.9170</td>\n",
       "      <td id=\"T_d7065_row4_col1\" class=\"data row4 col1\" >0.0000</td>\n",
       "      <td id=\"T_d7065_row4_col2\" class=\"data row4 col2\" >0.9170</td>\n",
       "      <td id=\"T_d7065_row4_col3\" class=\"data row4 col3\" >0.8409</td>\n",
       "      <td id=\"T_d7065_row4_col4\" class=\"data row4 col4\" >0.8773</td>\n",
       "      <td id=\"T_d7065_row4_col5\" class=\"data row4 col5\" >0.0000</td>\n",
       "      <td id=\"T_d7065_row4_col6\" class=\"data row4 col6\" >0.0000</td>\n",
       "    </tr>\n",
       "    <tr>\n",
       "      <th id=\"T_d7065_level0_row5\" class=\"row_heading level0 row5\" >5</th>\n",
       "      <td id=\"T_d7065_row5_col0\" class=\"data row5 col0\" >0.9170</td>\n",
       "      <td id=\"T_d7065_row5_col1\" class=\"data row5 col1\" >0.5000</td>\n",
       "      <td id=\"T_d7065_row5_col2\" class=\"data row5 col2\" >0.9170</td>\n",
       "      <td id=\"T_d7065_row5_col3\" class=\"data row5 col3\" >0.8409</td>\n",
       "      <td id=\"T_d7065_row5_col4\" class=\"data row5 col4\" >0.8773</td>\n",
       "      <td id=\"T_d7065_row5_col5\" class=\"data row5 col5\" >0.0000</td>\n",
       "      <td id=\"T_d7065_row5_col6\" class=\"data row5 col6\" >0.0000</td>\n",
       "    </tr>\n",
       "    <tr>\n",
       "      <th id=\"T_d7065_level0_row6\" class=\"row_heading level0 row6\" >6</th>\n",
       "      <td id=\"T_d7065_row6_col0\" class=\"data row6 col0\" >0.9170</td>\n",
       "      <td id=\"T_d7065_row6_col1\" class=\"data row6 col1\" >0.5000</td>\n",
       "      <td id=\"T_d7065_row6_col2\" class=\"data row6 col2\" >0.9170</td>\n",
       "      <td id=\"T_d7065_row6_col3\" class=\"data row6 col3\" >0.8409</td>\n",
       "      <td id=\"T_d7065_row6_col4\" class=\"data row6 col4\" >0.8773</td>\n",
       "      <td id=\"T_d7065_row6_col5\" class=\"data row6 col5\" >0.0000</td>\n",
       "      <td id=\"T_d7065_row6_col6\" class=\"data row6 col6\" >0.0000</td>\n",
       "    </tr>\n",
       "    <tr>\n",
       "      <th id=\"T_d7065_level0_row7\" class=\"row_heading level0 row7\" >7</th>\n",
       "      <td id=\"T_d7065_row7_col0\" class=\"data row7 col0\" >0.9170</td>\n",
       "      <td id=\"T_d7065_row7_col1\" class=\"data row7 col1\" >0.5000</td>\n",
       "      <td id=\"T_d7065_row7_col2\" class=\"data row7 col2\" >0.9170</td>\n",
       "      <td id=\"T_d7065_row7_col3\" class=\"data row7 col3\" >0.8409</td>\n",
       "      <td id=\"T_d7065_row7_col4\" class=\"data row7 col4\" >0.8773</td>\n",
       "      <td id=\"T_d7065_row7_col5\" class=\"data row7 col5\" >0.0000</td>\n",
       "      <td id=\"T_d7065_row7_col6\" class=\"data row7 col6\" >0.0000</td>\n",
       "    </tr>\n",
       "    <tr>\n",
       "      <th id=\"T_d7065_level0_row8\" class=\"row_heading level0 row8\" >8</th>\n",
       "      <td id=\"T_d7065_row8_col0\" class=\"data row8 col0\" >0.9170</td>\n",
       "      <td id=\"T_d7065_row8_col1\" class=\"data row8 col1\" >0.5000</td>\n",
       "      <td id=\"T_d7065_row8_col2\" class=\"data row8 col2\" >0.9170</td>\n",
       "      <td id=\"T_d7065_row8_col3\" class=\"data row8 col3\" >0.8409</td>\n",
       "      <td id=\"T_d7065_row8_col4\" class=\"data row8 col4\" >0.8773</td>\n",
       "      <td id=\"T_d7065_row8_col5\" class=\"data row8 col5\" >0.0000</td>\n",
       "      <td id=\"T_d7065_row8_col6\" class=\"data row8 col6\" >0.0000</td>\n",
       "    </tr>\n",
       "    <tr>\n",
       "      <th id=\"T_d7065_level0_row9\" class=\"row_heading level0 row9\" >9</th>\n",
       "      <td id=\"T_d7065_row9_col0\" class=\"data row9 col0\" >0.9170</td>\n",
       "      <td id=\"T_d7065_row9_col1\" class=\"data row9 col1\" >0.5000</td>\n",
       "      <td id=\"T_d7065_row9_col2\" class=\"data row9 col2\" >0.9170</td>\n",
       "      <td id=\"T_d7065_row9_col3\" class=\"data row9 col3\" >0.8409</td>\n",
       "      <td id=\"T_d7065_row9_col4\" class=\"data row9 col4\" >0.8773</td>\n",
       "      <td id=\"T_d7065_row9_col5\" class=\"data row9 col5\" >0.0000</td>\n",
       "      <td id=\"T_d7065_row9_col6\" class=\"data row9 col6\" >0.0000</td>\n",
       "    </tr>\n",
       "    <tr>\n",
       "      <th id=\"T_d7065_level0_row10\" class=\"row_heading level0 row10\" >Mean</th>\n",
       "      <td id=\"T_d7065_row10_col0\" class=\"data row10 col0\" >0.9170</td>\n",
       "      <td id=\"T_d7065_row10_col1\" class=\"data row10 col1\" >0.4000</td>\n",
       "      <td id=\"T_d7065_row10_col2\" class=\"data row10 col2\" >0.9170</td>\n",
       "      <td id=\"T_d7065_row10_col3\" class=\"data row10 col3\" >0.8409</td>\n",
       "      <td id=\"T_d7065_row10_col4\" class=\"data row10 col4\" >0.8773</td>\n",
       "      <td id=\"T_d7065_row10_col5\" class=\"data row10 col5\" >0.0000</td>\n",
       "      <td id=\"T_d7065_row10_col6\" class=\"data row10 col6\" >0.0000</td>\n",
       "    </tr>\n",
       "    <tr>\n",
       "      <th id=\"T_d7065_level0_row11\" class=\"row_heading level0 row11\" >Std</th>\n",
       "      <td id=\"T_d7065_row11_col0\" class=\"data row11 col0\" >0.0000</td>\n",
       "      <td id=\"T_d7065_row11_col1\" class=\"data row11 col1\" >0.2000</td>\n",
       "      <td id=\"T_d7065_row11_col2\" class=\"data row11 col2\" >0.0000</td>\n",
       "      <td id=\"T_d7065_row11_col3\" class=\"data row11 col3\" >0.0000</td>\n",
       "      <td id=\"T_d7065_row11_col4\" class=\"data row11 col4\" >0.0000</td>\n",
       "      <td id=\"T_d7065_row11_col5\" class=\"data row11 col5\" >0.0000</td>\n",
       "      <td id=\"T_d7065_row11_col6\" class=\"data row11 col6\" >0.0000</td>\n",
       "    </tr>\n",
       "  </tbody>\n",
       "</table>\n"
      ],
      "text/plain": [
       "<pandas.io.formats.style.Styler at 0x299416afb90>"
      ]
     },
     "metadata": {},
     "output_type": "display_data"
    },
    {
     "data": {
      "text/html": [],
      "text/plain": [
       "<IPython.core.display.HTML object>"
      ]
     },
     "metadata": {},
     "output_type": "display_data"
    },
    {
     "name": "stdout",
     "output_type": "stream",
     "text": [
      "Fitting 10 folds for each of 4 candidates, totalling 40 fits\n",
      "Original model was better than the tuned model, hence it will be returned. NOTE: The display metrics are for the tuned model (not the original one).\n"
     ]
    },
    {
     "data": {
      "application/vnd.jupyter.widget-view+json": {
       "model_id": "84e3e738e8f540a4abe50b89a0c3a164",
       "version_major": 2,
       "version_minor": 0
      },
      "text/plain": [
       "interactive(children=(ToggleButtons(description='Plot Type:', icons=('',), options=(('Pipeline Plot', 'pipelin…"
      ]
     },
     "metadata": {},
     "output_type": "display_data"
    },
    {
     "data": {
      "text/html": [
       "<style type=\"text/css\">\n",
       "</style>\n",
       "<table id=\"T_1cfd9\">\n",
       "  <thead>\n",
       "    <tr>\n",
       "      <th class=\"blank level0\" >&nbsp;</th>\n",
       "      <th id=\"T_1cfd9_level0_col0\" class=\"col_heading level0 col0\" >Model</th>\n",
       "      <th id=\"T_1cfd9_level0_col1\" class=\"col_heading level0 col1\" >Accuracy</th>\n",
       "      <th id=\"T_1cfd9_level0_col2\" class=\"col_heading level0 col2\" >AUC</th>\n",
       "      <th id=\"T_1cfd9_level0_col3\" class=\"col_heading level0 col3\" >Recall</th>\n",
       "      <th id=\"T_1cfd9_level0_col4\" class=\"col_heading level0 col4\" >Prec.</th>\n",
       "      <th id=\"T_1cfd9_level0_col5\" class=\"col_heading level0 col5\" >F1</th>\n",
       "      <th id=\"T_1cfd9_level0_col6\" class=\"col_heading level0 col6\" >Kappa</th>\n",
       "      <th id=\"T_1cfd9_level0_col7\" class=\"col_heading level0 col7\" >MCC</th>\n",
       "    </tr>\n",
       "  </thead>\n",
       "  <tbody>\n",
       "    <tr>\n",
       "      <th id=\"T_1cfd9_level0_row0\" class=\"row_heading level0 row0\" >0</th>\n",
       "      <td id=\"T_1cfd9_row0_col0\" class=\"data row0 col0\" >Dummy Classifier</td>\n",
       "      <td id=\"T_1cfd9_row0_col1\" class=\"data row0 col1\" >0.9170</td>\n",
       "      <td id=\"T_1cfd9_row0_col2\" class=\"data row0 col2\" >0</td>\n",
       "      <td id=\"T_1cfd9_row0_col3\" class=\"data row0 col3\" >0.9170</td>\n",
       "      <td id=\"T_1cfd9_row0_col4\" class=\"data row0 col4\" >0.8409</td>\n",
       "      <td id=\"T_1cfd9_row0_col5\" class=\"data row0 col5\" >0.8773</td>\n",
       "      <td id=\"T_1cfd9_row0_col6\" class=\"data row0 col6\" >0.0000</td>\n",
       "      <td id=\"T_1cfd9_row0_col7\" class=\"data row0 col7\" >0.0000</td>\n",
       "    </tr>\n",
       "  </tbody>\n",
       "</table>\n"
      ],
      "text/plain": [
       "<pandas.io.formats.style.Styler at 0x299428f7910>"
      ]
     },
     "metadata": {},
     "output_type": "display_data"
    },
    {
     "ename": "IndexError",
     "evalue": "only integers, slices (`:`), ellipsis (`...`), numpy.newaxis (`None`) and integer or boolean arrays are valid indices",
     "output_type": "error",
     "traceback": [
      "\u001b[1;31m---------------------------------------------------------------------------\u001b[0m",
      "\u001b[1;31mIndexError\u001b[0m                                Traceback (most recent call last)",
      "Cell \u001b[1;32mIn[43], line 8\u001b[0m\n\u001b[0;32m      5\u001b[0m evaluate_model(tuned_model)\n\u001b[0;32m      7\u001b[0m \u001b[38;5;66;03m# Fazendo previsões no conjunto de teste\u001b[39;00m\n\u001b[1;32m----> 8\u001b[0m predictions \u001b[38;5;241m=\u001b[39m \u001b[43mpredict_model\u001b[49m\u001b[43m(\u001b[49m\u001b[43mtuned_model\u001b[49m\u001b[43m)\u001b[49m\n\u001b[0;32m     10\u001b[0m \u001b[38;5;66;03m# Finalizando o modelo para salvar ou fazer mais previsões\u001b[39;00m\n\u001b[0;32m     11\u001b[0m final_model \u001b[38;5;241m=\u001b[39m finalize_model(tuned_model)\n",
      "File \u001b[1;32m~\\AppData\\Local\\Packages\\PythonSoftwareFoundation.Python.3.11_qbz5n2kfra8p0\\LocalCache\\local-packages\\Python311\\site-packages\\pycaret\\classification\\functional.py:2172\u001b[0m, in \u001b[0;36mpredict_model\u001b[1;34m(estimator, data, probability_threshold, encoded_labels, raw_score, round, verbose)\u001b[0m\n\u001b[0;32m   2169\u001b[0m \u001b[38;5;28;01mif\u001b[39;00m experiment \u001b[38;5;129;01mis\u001b[39;00m \u001b[38;5;28;01mNone\u001b[39;00m:\n\u001b[0;32m   2170\u001b[0m     experiment \u001b[38;5;241m=\u001b[39m _EXPERIMENT_CLASS()\n\u001b[1;32m-> 2172\u001b[0m \u001b[38;5;28;01mreturn\u001b[39;00m \u001b[43mexperiment\u001b[49m\u001b[38;5;241;43m.\u001b[39;49m\u001b[43mpredict_model\u001b[49m\u001b[43m(\u001b[49m\n\u001b[0;32m   2173\u001b[0m \u001b[43m    \u001b[49m\u001b[43mestimator\u001b[49m\u001b[38;5;241;43m=\u001b[39;49m\u001b[43mestimator\u001b[49m\u001b[43m,\u001b[49m\n\u001b[0;32m   2174\u001b[0m \u001b[43m    \u001b[49m\u001b[43mdata\u001b[49m\u001b[38;5;241;43m=\u001b[39;49m\u001b[43mdata\u001b[49m\u001b[43m,\u001b[49m\n\u001b[0;32m   2175\u001b[0m \u001b[43m    \u001b[49m\u001b[43mprobability_threshold\u001b[49m\u001b[38;5;241;43m=\u001b[39;49m\u001b[43mprobability_threshold\u001b[49m\u001b[43m,\u001b[49m\n\u001b[0;32m   2176\u001b[0m \u001b[43m    \u001b[49m\u001b[43mencoded_labels\u001b[49m\u001b[38;5;241;43m=\u001b[39;49m\u001b[43mencoded_labels\u001b[49m\u001b[43m,\u001b[49m\n\u001b[0;32m   2177\u001b[0m \u001b[43m    \u001b[49m\u001b[43mraw_score\u001b[49m\u001b[38;5;241;43m=\u001b[39;49m\u001b[43mraw_score\u001b[49m\u001b[43m,\u001b[49m\n\u001b[0;32m   2178\u001b[0m \u001b[43m    \u001b[49m\u001b[38;5;28;43mround\u001b[39;49m\u001b[38;5;241;43m=\u001b[39;49m\u001b[38;5;28;43mround\u001b[39;49m\u001b[43m,\u001b[49m\n\u001b[0;32m   2179\u001b[0m \u001b[43m    \u001b[49m\u001b[43mverbose\u001b[49m\u001b[38;5;241;43m=\u001b[39;49m\u001b[43mverbose\u001b[49m\u001b[43m,\u001b[49m\n\u001b[0;32m   2180\u001b[0m \u001b[43m\u001b[49m\u001b[43m)\u001b[49m\n",
      "File \u001b[1;32m~\\AppData\\Local\\Packages\\PythonSoftwareFoundation.Python.3.11_qbz5n2kfra8p0\\LocalCache\\local-packages\\Python311\\site-packages\\pycaret\\classification\\oop.py:2824\u001b[0m, in \u001b[0;36mClassificationExperiment.predict_model\u001b[1;34m(self, estimator, data, probability_threshold, encoded_labels, raw_score, round, verbose)\u001b[0m\n\u001b[0;32m   2752\u001b[0m \u001b[38;5;28;01mdef\u001b[39;00m \u001b[38;5;21mpredict_model\u001b[39m(\n\u001b[0;32m   2753\u001b[0m     \u001b[38;5;28mself\u001b[39m,\n\u001b[0;32m   2754\u001b[0m     estimator,\n\u001b[1;32m   (...)\u001b[0m\n\u001b[0;32m   2760\u001b[0m     verbose: \u001b[38;5;28mbool\u001b[39m \u001b[38;5;241m=\u001b[39m \u001b[38;5;28;01mTrue\u001b[39;00m,\n\u001b[0;32m   2761\u001b[0m ) \u001b[38;5;241m-\u001b[39m\u001b[38;5;241m>\u001b[39m pd\u001b[38;5;241m.\u001b[39mDataFrame:\n\u001b[0;32m   2762\u001b[0m \u001b[38;5;250m    \u001b[39m\u001b[38;5;124;03m\"\"\"\u001b[39;00m\n\u001b[0;32m   2763\u001b[0m \u001b[38;5;124;03m    This function predicts ``Label`` and ``Score`` (probability of predicted\u001b[39;00m\n\u001b[0;32m   2764\u001b[0m \u001b[38;5;124;03m    class) using a trained model. When ``data`` is None, it predicts label and\u001b[39;00m\n\u001b[1;32m   (...)\u001b[0m\n\u001b[0;32m   2821\u001b[0m \n\u001b[0;32m   2822\u001b[0m \u001b[38;5;124;03m    \"\"\"\u001b[39;00m\n\u001b[1;32m-> 2824\u001b[0m     \u001b[38;5;28;01mreturn\u001b[39;00m \u001b[38;5;28;43msuper\u001b[39;49m\u001b[43m(\u001b[49m\u001b[43m)\u001b[49m\u001b[38;5;241;43m.\u001b[39;49m\u001b[43mpredict_model\u001b[49m\u001b[43m(\u001b[49m\n\u001b[0;32m   2825\u001b[0m \u001b[43m        \u001b[49m\u001b[43mestimator\u001b[49m\u001b[38;5;241;43m=\u001b[39;49m\u001b[43mestimator\u001b[49m\u001b[43m,\u001b[49m\n\u001b[0;32m   2826\u001b[0m \u001b[43m        \u001b[49m\u001b[43mdata\u001b[49m\u001b[38;5;241;43m=\u001b[39;49m\u001b[43mdata\u001b[49m\u001b[43m,\u001b[49m\n\u001b[0;32m   2827\u001b[0m \u001b[43m        \u001b[49m\u001b[43mprobability_threshold\u001b[49m\u001b[38;5;241;43m=\u001b[39;49m\u001b[43mprobability_threshold\u001b[49m\u001b[43m,\u001b[49m\n\u001b[0;32m   2828\u001b[0m \u001b[43m        \u001b[49m\u001b[43mencoded_labels\u001b[49m\u001b[38;5;241;43m=\u001b[39;49m\u001b[43mencoded_labels\u001b[49m\u001b[43m,\u001b[49m\n\u001b[0;32m   2829\u001b[0m \u001b[43m        \u001b[49m\u001b[43mraw_score\u001b[49m\u001b[38;5;241;43m=\u001b[39;49m\u001b[43mraw_score\u001b[49m\u001b[43m,\u001b[49m\n\u001b[0;32m   2830\u001b[0m \u001b[43m        \u001b[49m\u001b[38;5;28;43mround\u001b[39;49m\u001b[38;5;241;43m=\u001b[39;49m\u001b[38;5;28;43mround\u001b[39;49m\u001b[43m,\u001b[49m\n\u001b[0;32m   2831\u001b[0m \u001b[43m        \u001b[49m\u001b[43mverbose\u001b[49m\u001b[38;5;241;43m=\u001b[39;49m\u001b[43mverbose\u001b[49m\u001b[43m,\u001b[49m\n\u001b[0;32m   2832\u001b[0m \u001b[43m    \u001b[49m\u001b[43m)\u001b[49m\n",
      "File \u001b[1;32m~\\AppData\\Local\\Packages\\PythonSoftwareFoundation.Python.3.11_qbz5n2kfra8p0\\LocalCache\\local-packages\\Python311\\site-packages\\pycaret\\internal\\pycaret_experiment\\supervised_experiment.py:5059\u001b[0m, in \u001b[0;36m_SupervisedExperiment.predict_model\u001b[1;34m(self, estimator, data, probability_threshold, encoded_labels, raw_score, round, verbose, ml_usecase, preprocess)\u001b[0m\n\u001b[0;32m   5055\u001b[0m     \u001b[38;5;28;01mif\u001b[39;00m label_encoder:\n\u001b[0;32m   5056\u001b[0m         pred \u001b[38;5;241m=\u001b[39m label_encoder\u001b[38;5;241m.\u001b[39mtransform(pred)\n\u001b[0;32m   5058\u001b[0m     score \u001b[38;5;241m=\u001b[39m pd\u001b[38;5;241m.\u001b[39mDataFrame(\n\u001b[1;32m-> 5059\u001b[0m         data\u001b[38;5;241m=\u001b[39m\u001b[43m[\u001b[49m\u001b[43ms\u001b[49m\u001b[43m[\u001b[49m\u001b[43mpred\u001b[49m\u001b[43m[\u001b[49m\u001b[43mi\u001b[49m\u001b[43m]\u001b[49m\u001b[43m]\u001b[49m\u001b[43m \u001b[49m\u001b[38;5;28;43;01mfor\u001b[39;49;00m\u001b[43m \u001b[49m\u001b[43mi\u001b[49m\u001b[43m,\u001b[49m\u001b[43m \u001b[49m\u001b[43ms\u001b[49m\u001b[43m \u001b[49m\u001b[38;5;129;43;01min\u001b[39;49;00m\u001b[43m \u001b[49m\u001b[38;5;28;43menumerate\u001b[39;49m\u001b[43m(\u001b[49m\u001b[43mscore\u001b[49m\u001b[43m)\u001b[49m\u001b[43m]\u001b[49m,\n\u001b[0;32m   5060\u001b[0m         index\u001b[38;5;241m=\u001b[39mX_test_\u001b[38;5;241m.\u001b[39mindex,\n\u001b[0;32m   5061\u001b[0m         columns\u001b[38;5;241m=\u001b[39m[SCORE_COLUMN],\n\u001b[0;32m   5062\u001b[0m     )\n\u001b[0;32m   5063\u001b[0m \u001b[38;5;28;01melse\u001b[39;00m:\n\u001b[0;32m   5064\u001b[0m     \u001b[38;5;28;01mif\u001b[39;00m \u001b[38;5;129;01mnot\u001b[39;00m encoded_labels:\n",
      "File \u001b[1;32m~\\AppData\\Local\\Packages\\PythonSoftwareFoundation.Python.3.11_qbz5n2kfra8p0\\LocalCache\\local-packages\\Python311\\site-packages\\pycaret\\internal\\pycaret_experiment\\supervised_experiment.py:5059\u001b[0m, in \u001b[0;36m<listcomp>\u001b[1;34m(.0)\u001b[0m\n\u001b[0;32m   5055\u001b[0m     \u001b[38;5;28;01mif\u001b[39;00m label_encoder:\n\u001b[0;32m   5056\u001b[0m         pred \u001b[38;5;241m=\u001b[39m label_encoder\u001b[38;5;241m.\u001b[39mtransform(pred)\n\u001b[0;32m   5058\u001b[0m     score \u001b[38;5;241m=\u001b[39m pd\u001b[38;5;241m.\u001b[39mDataFrame(\n\u001b[1;32m-> 5059\u001b[0m         data\u001b[38;5;241m=\u001b[39m[\u001b[43ms\u001b[49m\u001b[43m[\u001b[49m\u001b[43mpred\u001b[49m\u001b[43m[\u001b[49m\u001b[43mi\u001b[49m\u001b[43m]\u001b[49m\u001b[43m]\u001b[49m \u001b[38;5;28;01mfor\u001b[39;00m i, s \u001b[38;5;129;01min\u001b[39;00m \u001b[38;5;28menumerate\u001b[39m(score)],\n\u001b[0;32m   5060\u001b[0m         index\u001b[38;5;241m=\u001b[39mX_test_\u001b[38;5;241m.\u001b[39mindex,\n\u001b[0;32m   5061\u001b[0m         columns\u001b[38;5;241m=\u001b[39m[SCORE_COLUMN],\n\u001b[0;32m   5062\u001b[0m     )\n\u001b[0;32m   5063\u001b[0m \u001b[38;5;28;01melse\u001b[39;00m:\n\u001b[0;32m   5064\u001b[0m     \u001b[38;5;28;01mif\u001b[39;00m \u001b[38;5;129;01mnot\u001b[39;00m encoded_labels:\n",
      "\u001b[1;31mIndexError\u001b[0m: only integers, slices (`:`), ellipsis (`...`), numpy.newaxis (`None`) and integer or boolean arrays are valid indices"
     ]
    }
   ],
   "source": [
    "# Ajustando o melhor modelo\n",
    "tuned_model = tune_model(best_model)\n",
    "\n",
    "# Avaliando o modelo ajustado\n",
    "evaluate_model(tuned_model)\n",
    "\n",
    "# Fazendo previsões no conjunto de teste\n",
    "predictions = predict_model(tuned_model)\n",
    "\n",
    "# Finalizando o modelo para salvar ou fazer mais previsões\n",
    "final_model = finalize_model(tuned_model)"
   ]
  },
  {
   "cell_type": "code",
   "execution_count": null,
   "metadata": {},
   "outputs": [],
   "source": [
    "# Salvando o modelo treinado\n",
    "save_model(final_model, 'final_optimization_model')\n",
    "\n",
    "# Se necessário, você pode integrar o modelo finalizado do PyCaret de volta ao seu pipeline do scikit-learn\n",
    "final_sklearn_model = Pipeline(steps=[('preprocessor', preprocessor),\n",
    "                                      ('classifier', final_model)])"
   ]
  },
  {
   "cell_type": "code",
   "execution_count": 44,
   "metadata": {},
   "outputs": [
    {
     "name": "stdout",
     "output_type": "stream",
     "text": [
      "Colunas esperadas: Index(['mmsi', 'navigationalstatus', 'sog', 'cog', 'heading', 'shiptype',\n",
      "       'width', 'length', 'draught'],\n",
      "      dtype='object')\n",
      "Colunas de teste: Index(['cog', 'sog', 'beam', 'callsign', 'cargo', 'heading', 'imonumber',\n",
      "       'latitude', 'length', 'longitude', 'mmsi', 'name', 'navstatus',\n",
      "       'timeoffix', 'vesseltype', 'date'],\n",
      "      dtype='object')\n"
     ]
    }
   ],
   "source": [
    "# Supondo que você esteja usando ais_data_2_cleaned como dados de entrada para previsão\n",
    "# Primeiro, confirme que ais_data_2_cleaned está preparado corretamente:\n",
    "\n",
    "if 'navigationalstatus' in ais_data_2_cleaned.columns:\n",
    "    ais_data_2_cleaned.drop(columns=['navigationalstatus'], inplace=True)  # Remova a coluna alvo se existir\n",
    "\n",
    "# Agora, certifique-se de que as colunas são as mesmas:\n",
    "print(\"Colunas esperadas:\", ais_data_1_cleaned.columns)\n",
    "print(\"Colunas de teste:\", ais_data_2_cleaned.columns)\n"
   ]
  },
  {
   "cell_type": "code",
   "execution_count": 45,
   "metadata": {},
   "outputs": [
    {
     "data": {
      "text/html": [],
      "text/plain": [
       "<IPython.core.display.HTML object>"
      ]
     },
     "metadata": {},
     "output_type": "display_data"
    },
    {
     "ename": "KeyError",
     "evalue": "\"['width', 'draught', 'shiptype', 'navigationalstatus'] not in index\"",
     "output_type": "error",
     "traceback": [
      "\u001b[1;31m---------------------------------------------------------------------------\u001b[0m",
      "\u001b[1;31mKeyError\u001b[0m                                  Traceback (most recent call last)",
      "Cell \u001b[1;32mIn[45], line 2\u001b[0m\n\u001b[0;32m      1\u001b[0m \u001b[38;5;66;03m# Ajuste na chamada da função predict_model\u001b[39;00m\n\u001b[1;32m----> 2\u001b[0m predictions \u001b[38;5;241m=\u001b[39m \u001b[43mpredict_model\u001b[49m\u001b[43m(\u001b[49m\u001b[43mtuned_model\u001b[49m\u001b[43m,\u001b[49m\u001b[43m \u001b[49m\u001b[43mdata\u001b[49m\u001b[38;5;241;43m=\u001b[39;49m\u001b[43mais_data_2_cleaned\u001b[49m\u001b[43m)\u001b[49m\n",
      "File \u001b[1;32m~\\AppData\\Local\\Packages\\PythonSoftwareFoundation.Python.3.11_qbz5n2kfra8p0\\LocalCache\\local-packages\\Python311\\site-packages\\pycaret\\classification\\functional.py:2172\u001b[0m, in \u001b[0;36mpredict_model\u001b[1;34m(estimator, data, probability_threshold, encoded_labels, raw_score, round, verbose)\u001b[0m\n\u001b[0;32m   2169\u001b[0m \u001b[38;5;28;01mif\u001b[39;00m experiment \u001b[38;5;129;01mis\u001b[39;00m \u001b[38;5;28;01mNone\u001b[39;00m:\n\u001b[0;32m   2170\u001b[0m     experiment \u001b[38;5;241m=\u001b[39m _EXPERIMENT_CLASS()\n\u001b[1;32m-> 2172\u001b[0m \u001b[38;5;28;01mreturn\u001b[39;00m \u001b[43mexperiment\u001b[49m\u001b[38;5;241;43m.\u001b[39;49m\u001b[43mpredict_model\u001b[49m\u001b[43m(\u001b[49m\n\u001b[0;32m   2173\u001b[0m \u001b[43m    \u001b[49m\u001b[43mestimator\u001b[49m\u001b[38;5;241;43m=\u001b[39;49m\u001b[43mestimator\u001b[49m\u001b[43m,\u001b[49m\n\u001b[0;32m   2174\u001b[0m \u001b[43m    \u001b[49m\u001b[43mdata\u001b[49m\u001b[38;5;241;43m=\u001b[39;49m\u001b[43mdata\u001b[49m\u001b[43m,\u001b[49m\n\u001b[0;32m   2175\u001b[0m \u001b[43m    \u001b[49m\u001b[43mprobability_threshold\u001b[49m\u001b[38;5;241;43m=\u001b[39;49m\u001b[43mprobability_threshold\u001b[49m\u001b[43m,\u001b[49m\n\u001b[0;32m   2176\u001b[0m \u001b[43m    \u001b[49m\u001b[43mencoded_labels\u001b[49m\u001b[38;5;241;43m=\u001b[39;49m\u001b[43mencoded_labels\u001b[49m\u001b[43m,\u001b[49m\n\u001b[0;32m   2177\u001b[0m \u001b[43m    \u001b[49m\u001b[43mraw_score\u001b[49m\u001b[38;5;241;43m=\u001b[39;49m\u001b[43mraw_score\u001b[49m\u001b[43m,\u001b[49m\n\u001b[0;32m   2178\u001b[0m \u001b[43m    \u001b[49m\u001b[38;5;28;43mround\u001b[39;49m\u001b[38;5;241;43m=\u001b[39;49m\u001b[38;5;28;43mround\u001b[39;49m\u001b[43m,\u001b[49m\n\u001b[0;32m   2179\u001b[0m \u001b[43m    \u001b[49m\u001b[43mverbose\u001b[49m\u001b[38;5;241;43m=\u001b[39;49m\u001b[43mverbose\u001b[49m\u001b[43m,\u001b[49m\n\u001b[0;32m   2180\u001b[0m \u001b[43m\u001b[49m\u001b[43m)\u001b[49m\n",
      "File \u001b[1;32m~\\AppData\\Local\\Packages\\PythonSoftwareFoundation.Python.3.11_qbz5n2kfra8p0\\LocalCache\\local-packages\\Python311\\site-packages\\pycaret\\classification\\oop.py:2824\u001b[0m, in \u001b[0;36mClassificationExperiment.predict_model\u001b[1;34m(self, estimator, data, probability_threshold, encoded_labels, raw_score, round, verbose)\u001b[0m\n\u001b[0;32m   2752\u001b[0m \u001b[38;5;28;01mdef\u001b[39;00m \u001b[38;5;21mpredict_model\u001b[39m(\n\u001b[0;32m   2753\u001b[0m     \u001b[38;5;28mself\u001b[39m,\n\u001b[0;32m   2754\u001b[0m     estimator,\n\u001b[1;32m   (...)\u001b[0m\n\u001b[0;32m   2760\u001b[0m     verbose: \u001b[38;5;28mbool\u001b[39m \u001b[38;5;241m=\u001b[39m \u001b[38;5;28;01mTrue\u001b[39;00m,\n\u001b[0;32m   2761\u001b[0m ) \u001b[38;5;241m-\u001b[39m\u001b[38;5;241m>\u001b[39m pd\u001b[38;5;241m.\u001b[39mDataFrame:\n\u001b[0;32m   2762\u001b[0m \u001b[38;5;250m    \u001b[39m\u001b[38;5;124;03m\"\"\"\u001b[39;00m\n\u001b[0;32m   2763\u001b[0m \u001b[38;5;124;03m    This function predicts ``Label`` and ``Score`` (probability of predicted\u001b[39;00m\n\u001b[0;32m   2764\u001b[0m \u001b[38;5;124;03m    class) using a trained model. When ``data`` is None, it predicts label and\u001b[39;00m\n\u001b[1;32m   (...)\u001b[0m\n\u001b[0;32m   2821\u001b[0m \n\u001b[0;32m   2822\u001b[0m \u001b[38;5;124;03m    \"\"\"\u001b[39;00m\n\u001b[1;32m-> 2824\u001b[0m     \u001b[38;5;28;01mreturn\u001b[39;00m \u001b[38;5;28;43msuper\u001b[39;49m\u001b[43m(\u001b[49m\u001b[43m)\u001b[49m\u001b[38;5;241;43m.\u001b[39;49m\u001b[43mpredict_model\u001b[49m\u001b[43m(\u001b[49m\n\u001b[0;32m   2825\u001b[0m \u001b[43m        \u001b[49m\u001b[43mestimator\u001b[49m\u001b[38;5;241;43m=\u001b[39;49m\u001b[43mestimator\u001b[49m\u001b[43m,\u001b[49m\n\u001b[0;32m   2826\u001b[0m \u001b[43m        \u001b[49m\u001b[43mdata\u001b[49m\u001b[38;5;241;43m=\u001b[39;49m\u001b[43mdata\u001b[49m\u001b[43m,\u001b[49m\n\u001b[0;32m   2827\u001b[0m \u001b[43m        \u001b[49m\u001b[43mprobability_threshold\u001b[49m\u001b[38;5;241;43m=\u001b[39;49m\u001b[43mprobability_threshold\u001b[49m\u001b[43m,\u001b[49m\n\u001b[0;32m   2828\u001b[0m \u001b[43m        \u001b[49m\u001b[43mencoded_labels\u001b[49m\u001b[38;5;241;43m=\u001b[39;49m\u001b[43mencoded_labels\u001b[49m\u001b[43m,\u001b[49m\n\u001b[0;32m   2829\u001b[0m \u001b[43m        \u001b[49m\u001b[43mraw_score\u001b[49m\u001b[38;5;241;43m=\u001b[39;49m\u001b[43mraw_score\u001b[49m\u001b[43m,\u001b[49m\n\u001b[0;32m   2830\u001b[0m \u001b[43m        \u001b[49m\u001b[38;5;28;43mround\u001b[39;49m\u001b[38;5;241;43m=\u001b[39;49m\u001b[38;5;28;43mround\u001b[39;49m\u001b[43m,\u001b[49m\n\u001b[0;32m   2831\u001b[0m \u001b[43m        \u001b[49m\u001b[43mverbose\u001b[49m\u001b[38;5;241;43m=\u001b[39;49m\u001b[43mverbose\u001b[49m\u001b[43m,\u001b[49m\n\u001b[0;32m   2832\u001b[0m \u001b[43m    \u001b[49m\u001b[43m)\u001b[49m\n",
      "File \u001b[1;32m~\\AppData\\Local\\Packages\\PythonSoftwareFoundation.Python.3.11_qbz5n2kfra8p0\\LocalCache\\local-packages\\Python311\\site-packages\\pycaret\\internal\\pycaret_experiment\\supervised_experiment.py:4960\u001b[0m, in \u001b[0;36m_SupervisedExperiment.predict_model\u001b[1;34m(self, estimator, data, probability_threshold, encoded_labels, raw_score, round, verbose, ml_usecase, preprocess)\u001b[0m\n\u001b[0;32m   4958\u001b[0m X_test_untransformed \u001b[38;5;241m=\u001b[39m data\n\u001b[0;32m   4959\u001b[0m y_test_untransformed \u001b[38;5;241m=\u001b[39m target\n\u001b[1;32m-> 4960\u001b[0m data \u001b[38;5;241m=\u001b[39m \u001b[43mdata\u001b[49m\u001b[43m[\u001b[49m\u001b[43mX_columns\u001b[49m\u001b[43m]\u001b[49m  \u001b[38;5;66;03m# Ignore all columns but the originals\u001b[39;00m\n\u001b[0;32m   4961\u001b[0m \u001b[38;5;28;01mif\u001b[39;00m preprocess:\n\u001b[0;32m   4962\u001b[0m     X_test_ \u001b[38;5;241m=\u001b[39m pipeline\u001b[38;5;241m.\u001b[39mtransform(\n\u001b[0;32m   4963\u001b[0m         X\u001b[38;5;241m=\u001b[39mdata,\n\u001b[0;32m   4964\u001b[0m         y\u001b[38;5;241m=\u001b[39m(target \u001b[38;5;28;01mif\u001b[39;00m preprocess \u001b[38;5;241m!=\u001b[39m \u001b[38;5;124m\"\u001b[39m\u001b[38;5;124mfeatures\u001b[39m\u001b[38;5;124m\"\u001b[39m \u001b[38;5;28;01melse\u001b[39;00m \u001b[38;5;28;01mNone\u001b[39;00m),\n\u001b[0;32m   4965\u001b[0m     )\n",
      "File \u001b[1;32m~\\AppData\\Local\\Packages\\PythonSoftwareFoundation.Python.3.11_qbz5n2kfra8p0\\LocalCache\\local-packages\\Python311\\site-packages\\pandas\\core\\frame.py:3899\u001b[0m, in \u001b[0;36mDataFrame.__getitem__\u001b[1;34m(self, key)\u001b[0m\n\u001b[0;32m   3897\u001b[0m     \u001b[38;5;28;01mif\u001b[39;00m is_iterator(key):\n\u001b[0;32m   3898\u001b[0m         key \u001b[38;5;241m=\u001b[39m \u001b[38;5;28mlist\u001b[39m(key)\n\u001b[1;32m-> 3899\u001b[0m     indexer \u001b[38;5;241m=\u001b[39m \u001b[38;5;28;43mself\u001b[39;49m\u001b[38;5;241;43m.\u001b[39;49m\u001b[43mcolumns\u001b[49m\u001b[38;5;241;43m.\u001b[39;49m\u001b[43m_get_indexer_strict\u001b[49m\u001b[43m(\u001b[49m\u001b[43mkey\u001b[49m\u001b[43m,\u001b[49m\u001b[43m \u001b[49m\u001b[38;5;124;43m\"\u001b[39;49m\u001b[38;5;124;43mcolumns\u001b[39;49m\u001b[38;5;124;43m\"\u001b[39;49m\u001b[43m)\u001b[49m[\u001b[38;5;241m1\u001b[39m]\n\u001b[0;32m   3901\u001b[0m \u001b[38;5;66;03m# take() does not accept boolean indexers\u001b[39;00m\n\u001b[0;32m   3902\u001b[0m \u001b[38;5;28;01mif\u001b[39;00m \u001b[38;5;28mgetattr\u001b[39m(indexer, \u001b[38;5;124m\"\u001b[39m\u001b[38;5;124mdtype\u001b[39m\u001b[38;5;124m\"\u001b[39m, \u001b[38;5;28;01mNone\u001b[39;00m) \u001b[38;5;241m==\u001b[39m \u001b[38;5;28mbool\u001b[39m:\n",
      "File \u001b[1;32m~\\AppData\\Local\\Packages\\PythonSoftwareFoundation.Python.3.11_qbz5n2kfra8p0\\LocalCache\\local-packages\\Python311\\site-packages\\pandas\\core\\indexes\\base.py:6115\u001b[0m, in \u001b[0;36mIndex._get_indexer_strict\u001b[1;34m(self, key, axis_name)\u001b[0m\n\u001b[0;32m   6112\u001b[0m \u001b[38;5;28;01melse\u001b[39;00m:\n\u001b[0;32m   6113\u001b[0m     keyarr, indexer, new_indexer \u001b[38;5;241m=\u001b[39m \u001b[38;5;28mself\u001b[39m\u001b[38;5;241m.\u001b[39m_reindex_non_unique(keyarr)\n\u001b[1;32m-> 6115\u001b[0m \u001b[38;5;28;43mself\u001b[39;49m\u001b[38;5;241;43m.\u001b[39;49m\u001b[43m_raise_if_missing\u001b[49m\u001b[43m(\u001b[49m\u001b[43mkeyarr\u001b[49m\u001b[43m,\u001b[49m\u001b[43m \u001b[49m\u001b[43mindexer\u001b[49m\u001b[43m,\u001b[49m\u001b[43m \u001b[49m\u001b[43maxis_name\u001b[49m\u001b[43m)\u001b[49m\n\u001b[0;32m   6117\u001b[0m keyarr \u001b[38;5;241m=\u001b[39m \u001b[38;5;28mself\u001b[39m\u001b[38;5;241m.\u001b[39mtake(indexer)\n\u001b[0;32m   6118\u001b[0m \u001b[38;5;28;01mif\u001b[39;00m \u001b[38;5;28misinstance\u001b[39m(key, Index):\n\u001b[0;32m   6119\u001b[0m     \u001b[38;5;66;03m# GH 42790 - Preserve name from an Index\u001b[39;00m\n",
      "File \u001b[1;32m~\\AppData\\Local\\Packages\\PythonSoftwareFoundation.Python.3.11_qbz5n2kfra8p0\\LocalCache\\local-packages\\Python311\\site-packages\\pandas\\core\\indexes\\base.py:6179\u001b[0m, in \u001b[0;36mIndex._raise_if_missing\u001b[1;34m(self, key, indexer, axis_name)\u001b[0m\n\u001b[0;32m   6176\u001b[0m     \u001b[38;5;28;01mraise\u001b[39;00m \u001b[38;5;167;01mKeyError\u001b[39;00m(\u001b[38;5;124mf\u001b[39m\u001b[38;5;124m\"\u001b[39m\u001b[38;5;124mNone of [\u001b[39m\u001b[38;5;132;01m{\u001b[39;00mkey\u001b[38;5;132;01m}\u001b[39;00m\u001b[38;5;124m] are in the [\u001b[39m\u001b[38;5;132;01m{\u001b[39;00maxis_name\u001b[38;5;132;01m}\u001b[39;00m\u001b[38;5;124m]\u001b[39m\u001b[38;5;124m\"\u001b[39m)\n\u001b[0;32m   6178\u001b[0m not_found \u001b[38;5;241m=\u001b[39m \u001b[38;5;28mlist\u001b[39m(ensure_index(key)[missing_mask\u001b[38;5;241m.\u001b[39mnonzero()[\u001b[38;5;241m0\u001b[39m]]\u001b[38;5;241m.\u001b[39munique())\n\u001b[1;32m-> 6179\u001b[0m \u001b[38;5;28;01mraise\u001b[39;00m \u001b[38;5;167;01mKeyError\u001b[39;00m(\u001b[38;5;124mf\u001b[39m\u001b[38;5;124m\"\u001b[39m\u001b[38;5;132;01m{\u001b[39;00mnot_found\u001b[38;5;132;01m}\u001b[39;00m\u001b[38;5;124m not in index\u001b[39m\u001b[38;5;124m\"\u001b[39m)\n",
      "\u001b[1;31mKeyError\u001b[0m: \"['width', 'draught', 'shiptype', 'navigationalstatus'] not in index\""
     ]
    }
   ],
   "source": [
    "# Ajuste na chamada da função predict_model\n",
    "predictions = predict_model(tuned_model, data=ais_data_2_cleaned)\n"
   ]
  },
  {
   "cell_type": "code",
   "execution_count": 46,
   "metadata": {},
   "outputs": [],
   "source": [
    "# Antes de usar predict_model, vamos assegurar que os índices são válidos\n",
    "ais_data_2_cleaned.reset_index(drop=True, inplace=True)\n"
   ]
  },
  {
   "cell_type": "code",
   "execution_count": 47,
   "metadata": {},
   "outputs": [
    {
     "data": {
      "text/html": [],
      "text/plain": [
       "<IPython.core.display.HTML object>"
      ]
     },
     "metadata": {},
     "output_type": "display_data"
    },
    {
     "name": "stdout",
     "output_type": "stream",
     "text": [
      "Ocorreu um erro durante a predição: \"['width', 'draught', 'shiptype', 'navigationalstatus'] not in index\"\n"
     ]
    }
   ],
   "source": [
    "try:\n",
    "    predictions = predict_model(tuned_model, data=ais_data_2_cleaned)\n",
    "    print(predictions.head())\n",
    "except Exception as e:\n",
    "    print(\"Ocorreu um erro durante a predição:\", e)\n"
   ]
  }
 ],
 "metadata": {
  "kernelspec": {
   "display_name": "Python 3",
   "language": "python",
   "name": "python3"
  },
  "language_info": {
   "codemirror_mode": {
    "name": "ipython",
    "version": 3
   },
   "file_extension": ".py",
   "mimetype": "text/x-python",
   "name": "python",
   "nbconvert_exporter": "python",
   "pygments_lexer": "ipython3",
   "version": "3.11.9"
  }
 },
 "nbformat": 4,
 "nbformat_minor": 2
}
